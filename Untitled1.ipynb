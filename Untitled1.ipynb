{
 "cells": [
  {
   "cell_type": "code",
   "execution_count": 28,
   "id": "77d2c747-9329-4889-aa86-7679c0d26aef",
   "metadata": {},
   "outputs": [],
   "source": [
    "token = \"pk.eyJ1IjoicGQwd20iLCJhIjoiY2tqc3EweXdtMDY3NzJ6cXNmaHRsZG1vbiJ9.b_C1AtpchCy9IWidRjtJnA\"\n",
    "token2 = \"pk.eyJ1IjoiY29tbWFkb3RhaSIsImEiOiJja3BpYjY1NmswbGFvMndvOHFtN2NrZGVyIn0.SPgOHVD9VSKuGNM8pPuoYA\"\n",
    "\n",
    "grekiki = \"pk.eyJ1IjoiZ3Jla2lraSIsImEiOiJja3B5aXcyOW4xZ3UyMnhwOTF6YmI0OTRmIn0.1bArhPMnPEmD8OYAufMvSg\"\n",
    "grekiki2 = \"sk.eyJ1IjoiZ3Jla2lraSIsImEiOiJja3VhOXdkNTgwZXNoMnFtcnZqa3h5cG4xIn0.9-KpIVihDkf4Kx60jHDfjw\""
   ]
  },
  {
   "cell_type": "code",
   "execution_count": 63,
   "id": "bef8aee1-bd4c-4754-a5fc-29951ee6d980",
   "metadata": {},
   "outputs": [
    {
     "data": {
      "text/plain": [
       "{'code': 'TokenValid',\n",
       " 'token': {'usage': 'pk',\n",
       "  'user': 'pd0wm',\n",
       "  'authorization': 'ckjsq0ywm06772zqsfhtldmon'}}"
      ]
     },
     "execution_count": 63,
     "metadata": {},
     "output_type": "execute_result"
    }
   ],
   "source": [
    "import requests\n",
    "# while True:\n",
    "r = requests.get('https://api.mapbox.com/tokens/v2?access_token='+token)\n",
    "r.json()"
   ]
  },
  {
   "cell_type": "code",
   "execution_count": null,
   "id": "d4ea890c-158b-4911-967a-e3ef3ecf4a0c",
   "metadata": {},
   "outputs": [],
   "source": []
  }
 ],
 "metadata": {
  "kernelspec": {
   "display_name": "Python 3 (ipykernel)",
   "language": "python",
   "name": "python3"
  },
  "language_info": {
   "codemirror_mode": {
    "name": "ipython",
    "version": 3
   },
   "file_extension": ".py",
   "mimetype": "text/x-python",
   "name": "python",
   "nbconvert_exporter": "python",
   "pygments_lexer": "ipython3",
   "version": "3.8.5"
  }
 },
 "nbformat": 4,
 "nbformat_minor": 5
}
